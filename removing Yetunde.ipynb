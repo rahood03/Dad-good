{
 "cells": [
  {
   "cell_type": "code",
   "execution_count": 1,
   "id": "67776a18",
   "metadata": {},
   "outputs": [],
   "source": [
    "import pandas as pd\n",
    "import numpy as np"
   ]
  },
  {
   "cell_type": "code",
   "execution_count": 2,
   "id": "72195682",
   "metadata": {},
   "outputs": [
    {
     "name": "stdout",
     "output_type": "stream",
     "text": [
      "                                   Country Name Country Code  \\\n",
      "0                                   Afghanistan          AFG   \n",
      "1                                       Albania          ALB   \n",
      "2                                       Algeria          DZA   \n",
      "3                                American Samoa          ASM   \n",
      "4                                       Andorra          AND   \n",
      "..                                          ...          ...   \n",
      "261                          Sub-Saharan Africa          SSF   \n",
      "262  Sub-Saharan Africa (excluding high income)          SSA   \n",
      "263   Sub-Saharan Africa (IDA & IBRD countries)          TSS   \n",
      "264                         Upper middle income          UMC   \n",
      "265                                       World          WLD   \n",
      "\n",
      "                                           Series Name  Unnamed: 3  \\\n",
      "0    Agricultural raw materials imports (% of merch...         NaN   \n",
      "1    Agricultural raw materials imports (% of merch...         NaN   \n",
      "2    Agricultural raw materials imports (% of merch...         NaN   \n",
      "3    Agricultural raw materials imports (% of merch...         NaN   \n",
      "4    Agricultural raw materials imports (% of merch...         NaN   \n",
      "..                                                 ...         ...   \n",
      "261  Agricultural raw materials imports (% of merch...         NaN   \n",
      "262  Agricultural raw materials imports (% of merch...         NaN   \n",
      "263  Agricultural raw materials imports (% of merch...         NaN   \n",
      "264  Agricultural raw materials imports (% of merch...         NaN   \n",
      "265  Agricultural raw materials imports (% of merch...         NaN   \n",
      "\n",
      "     Unnamed: 4  Unnamed: 5  Unnamed: 6  Unnamed: 7 2019 [YR2019]  \n",
      "0           NaN         NaN         NaN         NaN       1.76946  \n",
      "1           NaN         NaN         NaN         NaN       0.87503  \n",
      "2           NaN         NaN         NaN         NaN           NaN  \n",
      "3           NaN         NaN         NaN         NaN           NaN  \n",
      "4           NaN         NaN         NaN         NaN           NaN  \n",
      "..          ...         ...         ...         ...           ...  \n",
      "261         NaN         NaN         NaN         NaN      1.136517  \n",
      "262         NaN         NaN         NaN         NaN      1.137154  \n",
      "263         NaN         NaN         NaN         NaN      1.136517  \n",
      "264         NaN         NaN         NaN         NaN      2.173421  \n",
      "265         NaN         NaN         NaN         NaN      1.379941  \n",
      "\n",
      "[266 rows x 9 columns]\n"
     ]
    }
   ],
   "source": [
    "df = pd.read_excel(r'C:\\Users\\PC\\Downloads\\ifeData.xlsx')\n",
    "print(df)"
   ]
  },
  {
   "cell_type": "code",
   "execution_count": 3,
   "id": "c67c1da7",
   "metadata": {
    "scrolled": true
   },
   "outputs": [
    {
     "data": {
      "text/plain": [
       "<bound method NDFrame.head of                                    Country Name Country Code  \\\n",
       "0                                   Afghanistan          AFG   \n",
       "1                                       Albania          ALB   \n",
       "2                                       Algeria          DZA   \n",
       "3                                American Samoa          ASM   \n",
       "4                                       Andorra          AND   \n",
       "..                                          ...          ...   \n",
       "261                          Sub-Saharan Africa          SSF   \n",
       "262  Sub-Saharan Africa (excluding high income)          SSA   \n",
       "263   Sub-Saharan Africa (IDA & IBRD countries)          TSS   \n",
       "264                         Upper middle income          UMC   \n",
       "265                                       World          WLD   \n",
       "\n",
       "                                           Series Name  Unnamed: 3  \\\n",
       "0    Agricultural raw materials imports (% of merch...         NaN   \n",
       "1    Agricultural raw materials imports (% of merch...         NaN   \n",
       "2    Agricultural raw materials imports (% of merch...         NaN   \n",
       "3    Agricultural raw materials imports (% of merch...         NaN   \n",
       "4    Agricultural raw materials imports (% of merch...         NaN   \n",
       "..                                                 ...         ...   \n",
       "261  Agricultural raw materials imports (% of merch...         NaN   \n",
       "262  Agricultural raw materials imports (% of merch...         NaN   \n",
       "263  Agricultural raw materials imports (% of merch...         NaN   \n",
       "264  Agricultural raw materials imports (% of merch...         NaN   \n",
       "265  Agricultural raw materials imports (% of merch...         NaN   \n",
       "\n",
       "     Unnamed: 4  Unnamed: 5  Unnamed: 6  Unnamed: 7 2019 [YR2019]  \n",
       "0           NaN         NaN         NaN         NaN       1.76946  \n",
       "1           NaN         NaN         NaN         NaN       0.87503  \n",
       "2           NaN         NaN         NaN         NaN           NaN  \n",
       "3           NaN         NaN         NaN         NaN           NaN  \n",
       "4           NaN         NaN         NaN         NaN           NaN  \n",
       "..          ...         ...         ...         ...           ...  \n",
       "261         NaN         NaN         NaN         NaN      1.136517  \n",
       "262         NaN         NaN         NaN         NaN      1.137154  \n",
       "263         NaN         NaN         NaN         NaN      1.136517  \n",
       "264         NaN         NaN         NaN         NaN      2.173421  \n",
       "265         NaN         NaN         NaN         NaN      1.379941  \n",
       "\n",
       "[266 rows x 9 columns]>"
      ]
     },
     "execution_count": 3,
     "metadata": {},
     "output_type": "execute_result"
    }
   ],
   "source": [
    "df.head"
   ]
  },
  {
   "cell_type": "code",
   "execution_count": 4,
   "id": "7592996a",
   "metadata": {},
   "outputs": [
    {
     "name": "stdout",
     "output_type": "stream",
     "text": [
      "                                   Country Name Country Code  \\\n",
      "0                                   Afghanistan          AFG   \n",
      "1                                       Albania          ALB   \n",
      "2                                       Algeria          DZA   \n",
      "3                                American Samoa          ASM   \n",
      "4                                       Andorra          AND   \n",
      "..                                          ...          ...   \n",
      "261                          Sub-Saharan Africa          SSF   \n",
      "262  Sub-Saharan Africa (excluding high income)          SSA   \n",
      "263   Sub-Saharan Africa (IDA & IBRD countries)          TSS   \n",
      "264                         Upper middle income          UMC   \n",
      "265                                       World          WLD   \n",
      "\n",
      "                                           Series Name  Unnamed: 4  \\\n",
      "0    Agricultural raw materials imports (% of merch...         NaN   \n",
      "1    Agricultural raw materials imports (% of merch...         NaN   \n",
      "2    Agricultural raw materials imports (% of merch...         NaN   \n",
      "3    Agricultural raw materials imports (% of merch...         NaN   \n",
      "4    Agricultural raw materials imports (% of merch...         NaN   \n",
      "..                                                 ...         ...   \n",
      "261  Agricultural raw materials imports (% of merch...         NaN   \n",
      "262  Agricultural raw materials imports (% of merch...         NaN   \n",
      "263  Agricultural raw materials imports (% of merch...         NaN   \n",
      "264  Agricultural raw materials imports (% of merch...         NaN   \n",
      "265  Agricultural raw materials imports (% of merch...         NaN   \n",
      "\n",
      "     Unnamed: 5  Unnamed: 6  Unnamed: 7 2019 [YR2019]  \n",
      "0           NaN         NaN         NaN       1.76946  \n",
      "1           NaN         NaN         NaN       0.87503  \n",
      "2           NaN         NaN         NaN           NaN  \n",
      "3           NaN         NaN         NaN           NaN  \n",
      "4           NaN         NaN         NaN           NaN  \n",
      "..          ...         ...         ...           ...  \n",
      "261         NaN         NaN         NaN      1.136517  \n",
      "262         NaN         NaN         NaN      1.137154  \n",
      "263         NaN         NaN         NaN      1.136517  \n",
      "264         NaN         NaN         NaN      2.173421  \n",
      "265         NaN         NaN         NaN      1.379941  \n",
      "\n",
      "[266 rows x 8 columns]\n"
     ]
    }
   ],
   "source": [
    "df = df.drop(df.columns[3], axis=1)\n",
    "print(df)"
   ]
  },
  {
   "cell_type": "code",
   "execution_count": 5,
   "id": "2dfda759",
   "metadata": {},
   "outputs": [
    {
     "name": "stdout",
     "output_type": "stream",
     "text": [
      "                                   Country Name Country Code  \\\n",
      "0                                   Afghanistan          AFG   \n",
      "1                                       Albania          ALB   \n",
      "2                                       Algeria          DZA   \n",
      "3                                American Samoa          ASM   \n",
      "4                                       Andorra          AND   \n",
      "..                                          ...          ...   \n",
      "261                          Sub-Saharan Africa          SSF   \n",
      "262  Sub-Saharan Africa (excluding high income)          SSA   \n",
      "263   Sub-Saharan Africa (IDA & IBRD countries)          TSS   \n",
      "264                         Upper middle income          UMC   \n",
      "265                                       World          WLD   \n",
      "\n",
      "                                           Series Name  Unnamed: 5  \\\n",
      "0    Agricultural raw materials imports (% of merch...         NaN   \n",
      "1    Agricultural raw materials imports (% of merch...         NaN   \n",
      "2    Agricultural raw materials imports (% of merch...         NaN   \n",
      "3    Agricultural raw materials imports (% of merch...         NaN   \n",
      "4    Agricultural raw materials imports (% of merch...         NaN   \n",
      "..                                                 ...         ...   \n",
      "261  Agricultural raw materials imports (% of merch...         NaN   \n",
      "262  Agricultural raw materials imports (% of merch...         NaN   \n",
      "263  Agricultural raw materials imports (% of merch...         NaN   \n",
      "264  Agricultural raw materials imports (% of merch...         NaN   \n",
      "265  Agricultural raw materials imports (% of merch...         NaN   \n",
      "\n",
      "     Unnamed: 6  Unnamed: 7 2019 [YR2019]  \n",
      "0           NaN         NaN       1.76946  \n",
      "1           NaN         NaN       0.87503  \n",
      "2           NaN         NaN           NaN  \n",
      "3           NaN         NaN           NaN  \n",
      "4           NaN         NaN           NaN  \n",
      "..          ...         ...           ...  \n",
      "261         NaN         NaN      1.136517  \n",
      "262         NaN         NaN      1.137154  \n",
      "263         NaN         NaN      1.136517  \n",
      "264         NaN         NaN      2.173421  \n",
      "265         NaN         NaN      1.379941  \n",
      "\n",
      "[266 rows x 7 columns]\n"
     ]
    }
   ],
   "source": [
    "df = df.drop(df.columns[3], axis=1)\n",
    "print(df)"
   ]
  },
  {
   "cell_type": "code",
   "execution_count": 6,
   "id": "9b2d65d0",
   "metadata": {},
   "outputs": [
    {
     "name": "stdout",
     "output_type": "stream",
     "text": [
      "                                   Country Name Country Code  \\\n",
      "0                                   Afghanistan          AFG   \n",
      "1                                       Albania          ALB   \n",
      "2                                       Algeria          DZA   \n",
      "3                                American Samoa          ASM   \n",
      "4                                       Andorra          AND   \n",
      "..                                          ...          ...   \n",
      "261                          Sub-Saharan Africa          SSF   \n",
      "262  Sub-Saharan Africa (excluding high income)          SSA   \n",
      "263   Sub-Saharan Africa (IDA & IBRD countries)          TSS   \n",
      "264                         Upper middle income          UMC   \n",
      "265                                       World          WLD   \n",
      "\n",
      "                                           Series Name  Unnamed: 6  \\\n",
      "0    Agricultural raw materials imports (% of merch...         NaN   \n",
      "1    Agricultural raw materials imports (% of merch...         NaN   \n",
      "2    Agricultural raw materials imports (% of merch...         NaN   \n",
      "3    Agricultural raw materials imports (% of merch...         NaN   \n",
      "4    Agricultural raw materials imports (% of merch...         NaN   \n",
      "..                                                 ...         ...   \n",
      "261  Agricultural raw materials imports (% of merch...         NaN   \n",
      "262  Agricultural raw materials imports (% of merch...         NaN   \n",
      "263  Agricultural raw materials imports (% of merch...         NaN   \n",
      "264  Agricultural raw materials imports (% of merch...         NaN   \n",
      "265  Agricultural raw materials imports (% of merch...         NaN   \n",
      "\n",
      "     Unnamed: 7 2019 [YR2019]  \n",
      "0           NaN       1.76946  \n",
      "1           NaN       0.87503  \n",
      "2           NaN           NaN  \n",
      "3           NaN           NaN  \n",
      "4           NaN           NaN  \n",
      "..          ...           ...  \n",
      "261         NaN      1.136517  \n",
      "262         NaN      1.137154  \n",
      "263         NaN      1.136517  \n",
      "264         NaN      2.173421  \n",
      "265         NaN      1.379941  \n",
      "\n",
      "[266 rows x 6 columns]\n"
     ]
    }
   ],
   "source": [
    "df = df.drop(df.columns[3], axis=1)\n",
    "print(df)"
   ]
  },
  {
   "cell_type": "code",
   "execution_count": 7,
   "id": "01f384f7",
   "metadata": {
    "scrolled": true
   },
   "outputs": [
    {
     "data": {
      "text/html": [
       "<div>\n",
       "<style scoped>\n",
       "    .dataframe tbody tr th:only-of-type {\n",
       "        vertical-align: middle;\n",
       "    }\n",
       "\n",
       "    .dataframe tbody tr th {\n",
       "        vertical-align: top;\n",
       "    }\n",
       "\n",
       "    .dataframe thead th {\n",
       "        text-align: right;\n",
       "    }\n",
       "</style>\n",
       "<table border=\"1\" class=\"dataframe\">\n",
       "  <thead>\n",
       "    <tr style=\"text-align: right;\">\n",
       "      <th></th>\n",
       "      <th>Country Name</th>\n",
       "      <th>Country Code</th>\n",
       "      <th>Series Name</th>\n",
       "      <th>Unnamed: 6</th>\n",
       "      <th>Unnamed: 7</th>\n",
       "      <th>2019 [YR2019]</th>\n",
       "    </tr>\n",
       "  </thead>\n",
       "  <tbody>\n",
       "    <tr>\n",
       "      <th>0</th>\n",
       "      <td>Afghanistan</td>\n",
       "      <td>AFG</td>\n",
       "      <td>Agricultural raw materials imports (% of merch...</td>\n",
       "      <td>NaN</td>\n",
       "      <td>NaN</td>\n",
       "      <td>1.76946</td>\n",
       "    </tr>\n",
       "    <tr>\n",
       "      <th>1</th>\n",
       "      <td>Albania</td>\n",
       "      <td>ALB</td>\n",
       "      <td>Agricultural raw materials imports (% of merch...</td>\n",
       "      <td>NaN</td>\n",
       "      <td>NaN</td>\n",
       "      <td>0.87503</td>\n",
       "    </tr>\n",
       "    <tr>\n",
       "      <th>2</th>\n",
       "      <td>Algeria</td>\n",
       "      <td>DZA</td>\n",
       "      <td>Agricultural raw materials imports (% of merch...</td>\n",
       "      <td>NaN</td>\n",
       "      <td>NaN</td>\n",
       "      <td>NaN</td>\n",
       "    </tr>\n",
       "    <tr>\n",
       "      <th>3</th>\n",
       "      <td>American Samoa</td>\n",
       "      <td>ASM</td>\n",
       "      <td>Agricultural raw materials imports (% of merch...</td>\n",
       "      <td>NaN</td>\n",
       "      <td>NaN</td>\n",
       "      <td>NaN</td>\n",
       "    </tr>\n",
       "    <tr>\n",
       "      <th>4</th>\n",
       "      <td>Andorra</td>\n",
       "      <td>AND</td>\n",
       "      <td>Agricultural raw materials imports (% of merch...</td>\n",
       "      <td>NaN</td>\n",
       "      <td>NaN</td>\n",
       "      <td>NaN</td>\n",
       "    </tr>\n",
       "  </tbody>\n",
       "</table>\n",
       "</div>"
      ],
      "text/plain": [
       "     Country Name Country Code  \\\n",
       "0     Afghanistan          AFG   \n",
       "1         Albania          ALB   \n",
       "2         Algeria          DZA   \n",
       "3  American Samoa          ASM   \n",
       "4         Andorra          AND   \n",
       "\n",
       "                                         Series Name  Unnamed: 6  Unnamed: 7  \\\n",
       "0  Agricultural raw materials imports (% of merch...         NaN         NaN   \n",
       "1  Agricultural raw materials imports (% of merch...         NaN         NaN   \n",
       "2  Agricultural raw materials imports (% of merch...         NaN         NaN   \n",
       "3  Agricultural raw materials imports (% of merch...         NaN         NaN   \n",
       "4  Agricultural raw materials imports (% of merch...         NaN         NaN   \n",
       "\n",
       "  2019 [YR2019]  \n",
       "0       1.76946  \n",
       "1       0.87503  \n",
       "2           NaN  \n",
       "3           NaN  \n",
       "4           NaN  "
      ]
     },
     "execution_count": 7,
     "metadata": {},
     "output_type": "execute_result"
    }
   ],
   "source": [
    "df.head()"
   ]
  },
  {
   "cell_type": "code",
   "execution_count": 12,
   "id": "cf3cff09",
   "metadata": {},
   "outputs": [],
   "source": [
    "column_to_remove = ['Unnamed: 6','Unnamed: 7']"
   ]
  },
  {
   "cell_type": "code",
   "execution_count": 9,
   "id": "e52458b9",
   "metadata": {},
   "outputs": [
    {
     "data": {
      "text/plain": [
       "Country Name       0\n",
       "Country Code       0\n",
       "Series Name        0\n",
       "Unnamed: 6       266\n",
       "Unnamed: 7       266\n",
       "2019 [YR2019]     61\n",
       "dtype: int64"
      ]
     },
     "execution_count": 9,
     "metadata": {},
     "output_type": "execute_result"
    }
   ],
   "source": [
    "df.isnull().sum()"
   ]
  },
  {
   "cell_type": "code",
   "execution_count": 10,
   "id": "c781b6f2",
   "metadata": {},
   "outputs": [
    {
     "data": {
      "text/plain": [
       "(266, 6)"
      ]
     },
     "execution_count": 10,
     "metadata": {},
     "output_type": "execute_result"
    }
   ],
   "source": [
    "df.shape"
   ]
  },
  {
   "cell_type": "code",
   "execution_count": 11,
   "id": "a4a3b583",
   "metadata": {},
   "outputs": [
    {
     "data": {
      "text/html": [
       "<div>\n",
       "<style scoped>\n",
       "    .dataframe tbody tr th:only-of-type {\n",
       "        vertical-align: middle;\n",
       "    }\n",
       "\n",
       "    .dataframe tbody tr th {\n",
       "        vertical-align: top;\n",
       "    }\n",
       "\n",
       "    .dataframe thead th {\n",
       "        text-align: right;\n",
       "    }\n",
       "</style>\n",
       "<table border=\"1\" class=\"dataframe\">\n",
       "  <thead>\n",
       "    <tr style=\"text-align: right;\">\n",
       "      <th></th>\n",
       "      <th>Unnamed: 6</th>\n",
       "      <th>Unnamed: 7</th>\n",
       "    </tr>\n",
       "  </thead>\n",
       "  <tbody>\n",
       "    <tr>\n",
       "      <th>count</th>\n",
       "      <td>0.0</td>\n",
       "      <td>0.0</td>\n",
       "    </tr>\n",
       "    <tr>\n",
       "      <th>mean</th>\n",
       "      <td>NaN</td>\n",
       "      <td>NaN</td>\n",
       "    </tr>\n",
       "    <tr>\n",
       "      <th>std</th>\n",
       "      <td>NaN</td>\n",
       "      <td>NaN</td>\n",
       "    </tr>\n",
       "    <tr>\n",
       "      <th>min</th>\n",
       "      <td>NaN</td>\n",
       "      <td>NaN</td>\n",
       "    </tr>\n",
       "    <tr>\n",
       "      <th>25%</th>\n",
       "      <td>NaN</td>\n",
       "      <td>NaN</td>\n",
       "    </tr>\n",
       "    <tr>\n",
       "      <th>50%</th>\n",
       "      <td>NaN</td>\n",
       "      <td>NaN</td>\n",
       "    </tr>\n",
       "    <tr>\n",
       "      <th>75%</th>\n",
       "      <td>NaN</td>\n",
       "      <td>NaN</td>\n",
       "    </tr>\n",
       "    <tr>\n",
       "      <th>max</th>\n",
       "      <td>NaN</td>\n",
       "      <td>NaN</td>\n",
       "    </tr>\n",
       "  </tbody>\n",
       "</table>\n",
       "</div>"
      ],
      "text/plain": [
       "       Unnamed: 6  Unnamed: 7\n",
       "count         0.0         0.0\n",
       "mean          NaN         NaN\n",
       "std           NaN         NaN\n",
       "min           NaN         NaN\n",
       "25%           NaN         NaN\n",
       "50%           NaN         NaN\n",
       "75%           NaN         NaN\n",
       "max           NaN         NaN"
      ]
     },
     "execution_count": 11,
     "metadata": {},
     "output_type": "execute_result"
    }
   ],
   "source": [
    "df.describe()"
   ]
  },
  {
   "cell_type": "code",
   "execution_count": 20,
   "id": "a83874a7",
   "metadata": {},
   "outputs": [
    {
     "name": "stderr",
     "output_type": "stream",
     "text": [
      "C:\\Users\\PC\\AppData\\Local\\Temp\\ipykernel_18832\\1459321664.py:1: FutureWarning: Dropping of nuisance columns in DataFrame reductions (with 'numeric_only=None') is deprecated; in a future version this will raise TypeError.  Select only valid columns before calling the reduction.\n",
      "  df.sum(axis=1)\n"
     ]
    },
    {
     "data": {
      "text/plain": [
       "0      0.0\n",
       "1      0.0\n",
       "2      0.0\n",
       "3      0.0\n",
       "4      0.0\n",
       "      ... \n",
       "261    0.0\n",
       "262    0.0\n",
       "263    0.0\n",
       "264    0.0\n",
       "265    0.0\n",
       "Length: 266, dtype: float64"
      ]
     },
     "execution_count": 20,
     "metadata": {},
     "output_type": "execute_result"
    }
   ],
   "source": [
    "df.sum(axis=1)"
   ]
  },
  {
   "cell_type": "code",
   "execution_count": 21,
   "id": "944d0ffd",
   "metadata": {},
   "outputs": [
    {
     "name": "stdout",
     "output_type": "stream",
     "text": [
      "                                   Country Name Country Code  \\\n",
      "0                                   Afghanistan          AFG   \n",
      "1                                       Albania          ALB   \n",
      "2                                       Algeria          DZA   \n",
      "3                                American Samoa          ASM   \n",
      "4                                       Andorra          AND   \n",
      "..                                          ...          ...   \n",
      "261                          Sub-Saharan Africa          SSF   \n",
      "262  Sub-Saharan Africa (excluding high income)          SSA   \n",
      "263   Sub-Saharan Africa (IDA & IBRD countries)          TSS   \n",
      "264                         Upper middle income          UMC   \n",
      "265                                       World          WLD   \n",
      "\n",
      "                                           Series Name 2019 [YR2019]  \n",
      "0    Agricultural raw materials imports (% of merch...       1.76946  \n",
      "1    Agricultural raw materials imports (% of merch...       0.87503  \n",
      "2    Agricultural raw materials imports (% of merch...           NaN  \n",
      "3    Agricultural raw materials imports (% of merch...           NaN  \n",
      "4    Agricultural raw materials imports (% of merch...           NaN  \n",
      "..                                                 ...           ...  \n",
      "261  Agricultural raw materials imports (% of merch...      1.136517  \n",
      "262  Agricultural raw materials imports (% of merch...      1.137154  \n",
      "263  Agricultural raw materials imports (% of merch...      1.136517  \n",
      "264  Agricultural raw materials imports (% of merch...      2.173421  \n",
      "265  Agricultural raw materials imports (% of merch...      1.379941  \n",
      "\n",
      "[266 rows x 4 columns]\n"
     ]
    }
   ],
   "source": [
    "print(df)"
   ]
  },
  {
   "cell_type": "code",
   "execution_count": 22,
   "id": "571e73de",
   "metadata": {},
   "outputs": [
    {
     "data": {
      "text/plain": [
       "Country Name      0\n",
       "Country Code      0\n",
       "Series Name       0\n",
       "2019 [YR2019]    61\n",
       "dtype: int64"
      ]
     },
     "execution_count": 22,
     "metadata": {},
     "output_type": "execute_result"
    }
   ],
   "source": [
    "df.isnull().sum()"
   ]
  },
  {
   "cell_type": "code",
   "execution_count": 23,
   "id": "c0f44bdc",
   "metadata": {},
   "outputs": [],
   "source": [
    "Country_code_column = df['Country Code']"
   ]
  },
  {
   "cell_type": "code",
   "execution_count": 24,
   "id": "6a8ba31d",
   "metadata": {},
   "outputs": [
    {
     "name": "stdout",
     "output_type": "stream",
     "text": [
      "0      AFG\n",
      "1      ALB\n",
      "2      DZA\n",
      "3      ASM\n",
      "4      AND\n",
      "      ... \n",
      "261    SSF\n",
      "262    SSA\n",
      "263    TSS\n",
      "264    UMC\n",
      "265    WLD\n",
      "Name: Country Code, Length: 266, dtype: object\n"
     ]
    }
   ],
   "source": [
    "print(Country_code_column)"
   ]
  },
  {
   "cell_type": "code",
   "execution_count": 25,
   "id": "f2595d76",
   "metadata": {},
   "outputs": [
    {
     "data": {
      "text/html": [
       "<div>\n",
       "<style scoped>\n",
       "    .dataframe tbody tr th:only-of-type {\n",
       "        vertical-align: middle;\n",
       "    }\n",
       "\n",
       "    .dataframe tbody tr th {\n",
       "        vertical-align: top;\n",
       "    }\n",
       "\n",
       "    .dataframe thead th {\n",
       "        text-align: right;\n",
       "    }\n",
       "</style>\n",
       "<table border=\"1\" class=\"dataframe\">\n",
       "  <thead>\n",
       "    <tr style=\"text-align: right;\">\n",
       "      <th></th>\n",
       "      <th>Country Name</th>\n",
       "      <th>Country Code</th>\n",
       "      <th>Series Name</th>\n",
       "      <th>2019 [YR2019]</th>\n",
       "    </tr>\n",
       "  </thead>\n",
       "  <tbody>\n",
       "    <tr>\n",
       "      <th>9</th>\n",
       "      <td>Aruba</td>\n",
       "      <td>ABW</td>\n",
       "      <td>Agricultural raw materials imports (% of merch...</td>\n",
       "      <td>0.35067</td>\n",
       "    </tr>\n",
       "    <tr>\n",
       "      <th>217</th>\n",
       "      <td>Africa Eastern and Southern</td>\n",
       "      <td>AFE</td>\n",
       "      <td>Agricultural raw materials imports (% of merch...</td>\n",
       "      <td>1.103181</td>\n",
       "    </tr>\n",
       "    <tr>\n",
       "      <th>0</th>\n",
       "      <td>Afghanistan</td>\n",
       "      <td>AFG</td>\n",
       "      <td>Agricultural raw materials imports (% of merch...</td>\n",
       "      <td>1.76946</td>\n",
       "    </tr>\n",
       "    <tr>\n",
       "      <th>218</th>\n",
       "      <td>Africa Western and Central</td>\n",
       "      <td>AFW</td>\n",
       "      <td>Agricultural raw materials imports (% of merch...</td>\n",
       "      <td>1.213113</td>\n",
       "    </tr>\n",
       "    <tr>\n",
       "      <th>5</th>\n",
       "      <td>Angola</td>\n",
       "      <td>AGO</td>\n",
       "      <td>Agricultural raw materials imports (% of merch...</td>\n",
       "      <td>0.93621</td>\n",
       "    </tr>\n",
       "  </tbody>\n",
       "</table>\n",
       "</div>"
      ],
      "text/plain": [
       "                    Country Name Country Code  \\\n",
       "9                          Aruba          ABW   \n",
       "217  Africa Eastern and Southern          AFE   \n",
       "0                    Afghanistan          AFG   \n",
       "218   Africa Western and Central          AFW   \n",
       "5                         Angola          AGO   \n",
       "\n",
       "                                           Series Name 2019 [YR2019]  \n",
       "9    Agricultural raw materials imports (% of merch...       0.35067  \n",
       "217  Agricultural raw materials imports (% of merch...      1.103181  \n",
       "0    Agricultural raw materials imports (% of merch...       1.76946  \n",
       "218  Agricultural raw materials imports (% of merch...      1.213113  \n",
       "5    Agricultural raw materials imports (% of merch...       0.93621  "
      ]
     },
     "execution_count": 25,
     "metadata": {},
     "output_type": "execute_result"
    }
   ],
   "source": [
    "df.sort_values(by='Country Code').head()"
   ]
  },
  {
   "cell_type": "code",
   "execution_count": 26,
   "id": "65572e38",
   "metadata": {},
   "outputs": [
    {
     "name": "stderr",
     "output_type": "stream",
     "text": [
      "C:\\Users\\PC\\AppData\\Local\\Temp\\ipykernel_18832\\1627002405.py:1: FutureWarning: Dropping invalid columns in DataFrameGroupBy.mean is deprecated. In a future version, a TypeError will be raised. Before calling .mean, select only columns which should be valid for the function.\n",
      "  df.groupby('Country Code').mean().head()\n"
     ]
    },
    {
     "data": {
      "text/html": [
       "<div>\n",
       "<style scoped>\n",
       "    .dataframe tbody tr th:only-of-type {\n",
       "        vertical-align: middle;\n",
       "    }\n",
       "\n",
       "    .dataframe tbody tr th {\n",
       "        vertical-align: top;\n",
       "    }\n",
       "\n",
       "    .dataframe thead th {\n",
       "        text-align: right;\n",
       "    }\n",
       "</style>\n",
       "<table border=\"1\" class=\"dataframe\">\n",
       "  <thead>\n",
       "    <tr style=\"text-align: right;\">\n",
       "      <th></th>\n",
       "    </tr>\n",
       "    <tr>\n",
       "      <th>Country Code</th>\n",
       "    </tr>\n",
       "  </thead>\n",
       "  <tbody>\n",
       "    <tr>\n",
       "      <th>ABW</th>\n",
       "    </tr>\n",
       "    <tr>\n",
       "      <th>AFE</th>\n",
       "    </tr>\n",
       "    <tr>\n",
       "      <th>AFG</th>\n",
       "    </tr>\n",
       "    <tr>\n",
       "      <th>AFW</th>\n",
       "    </tr>\n",
       "    <tr>\n",
       "      <th>AGO</th>\n",
       "    </tr>\n",
       "  </tbody>\n",
       "</table>\n",
       "</div>"
      ],
      "text/plain": [
       "Empty DataFrame\n",
       "Columns: []\n",
       "Index: [ABW, AFE, AFG, AFW, AGO]"
      ]
     },
     "execution_count": 26,
     "metadata": {},
     "output_type": "execute_result"
    }
   ],
   "source": [
    "df.groupby('Country Code').mean().head()"
   ]
  },
  {
   "cell_type": "code",
   "execution_count": 27,
   "id": "1dce8e01",
   "metadata": {},
   "outputs": [
    {
     "data": {
      "text/html": [
       "<div>\n",
       "<style scoped>\n",
       "    .dataframe tbody tr th:only-of-type {\n",
       "        vertical-align: middle;\n",
       "    }\n",
       "\n",
       "    .dataframe tbody tr th {\n",
       "        vertical-align: top;\n",
       "    }\n",
       "\n",
       "    .dataframe thead th {\n",
       "        text-align: right;\n",
       "    }\n",
       "</style>\n",
       "<table border=\"1\" class=\"dataframe\">\n",
       "  <thead>\n",
       "    <tr style=\"text-align: right;\">\n",
       "      <th></th>\n",
       "      <th>Country Name</th>\n",
       "      <th>Series Name</th>\n",
       "      <th>2019 [YR2019]</th>\n",
       "    </tr>\n",
       "    <tr>\n",
       "      <th>Country Code</th>\n",
       "      <th></th>\n",
       "      <th></th>\n",
       "      <th></th>\n",
       "    </tr>\n",
       "  </thead>\n",
       "  <tbody>\n",
       "    <tr>\n",
       "      <th>ABW</th>\n",
       "      <td>Aruba</td>\n",
       "      <td>Agricultural raw materials imports (% of merch...</td>\n",
       "      <td>0.35067</td>\n",
       "    </tr>\n",
       "    <tr>\n",
       "      <th>AFE</th>\n",
       "      <td>Africa Eastern and Southern</td>\n",
       "      <td>Agricultural raw materials imports (% of merch...</td>\n",
       "      <td>1.103181</td>\n",
       "    </tr>\n",
       "    <tr>\n",
       "      <th>AFG</th>\n",
       "      <td>Afghanistan</td>\n",
       "      <td>Agricultural raw materials imports (% of merch...</td>\n",
       "      <td>1.76946</td>\n",
       "    </tr>\n",
       "    <tr>\n",
       "      <th>AFW</th>\n",
       "      <td>Africa Western and Central</td>\n",
       "      <td>Agricultural raw materials imports (% of merch...</td>\n",
       "      <td>1.213113</td>\n",
       "    </tr>\n",
       "    <tr>\n",
       "      <th>AGO</th>\n",
       "      <td>Angola</td>\n",
       "      <td>Agricultural raw materials imports (% of merch...</td>\n",
       "      <td>0.93621</td>\n",
       "    </tr>\n",
       "  </tbody>\n",
       "</table>\n",
       "</div>"
      ],
      "text/plain": [
       "                             Country Name  \\\n",
       "Country Code                                \n",
       "ABW                                 Aruba   \n",
       "AFE           Africa Eastern and Southern   \n",
       "AFG                           Afghanistan   \n",
       "AFW            Africa Western and Central   \n",
       "AGO                                Angola   \n",
       "\n",
       "                                                    Series Name 2019 [YR2019]  \n",
       "Country Code                                                                   \n",
       "ABW           Agricultural raw materials imports (% of merch...       0.35067  \n",
       "AFE           Agricultural raw materials imports (% of merch...      1.103181  \n",
       "AFG           Agricultural raw materials imports (% of merch...       1.76946  \n",
       "AFW           Agricultural raw materials imports (% of merch...      1.213113  \n",
       "AGO           Agricultural raw materials imports (% of merch...       0.93621  "
      ]
     },
     "execution_count": 27,
     "metadata": {},
     "output_type": "execute_result"
    }
   ],
   "source": [
    "df.groupby('Country Code').max(). head()"
   ]
  },
  {
   "cell_type": "code",
   "execution_count": 28,
   "id": "ec86fe57",
   "metadata": {},
   "outputs": [
    {
     "data": {
      "text/html": [
       "<div>\n",
       "<style scoped>\n",
       "    .dataframe tbody tr th:only-of-type {\n",
       "        vertical-align: middle;\n",
       "    }\n",
       "\n",
       "    .dataframe tbody tr th {\n",
       "        vertical-align: top;\n",
       "    }\n",
       "\n",
       "    .dataframe thead th {\n",
       "        text-align: right;\n",
       "    }\n",
       "</style>\n",
       "<table border=\"1\" class=\"dataframe\">\n",
       "  <thead>\n",
       "    <tr style=\"text-align: right;\">\n",
       "      <th></th>\n",
       "      <th>Country Name</th>\n",
       "      <th>Country Code</th>\n",
       "      <th>Series Name</th>\n",
       "      <th>2019 [YR2019]</th>\n",
       "    </tr>\n",
       "  </thead>\n",
       "  <tbody>\n",
       "    <tr>\n",
       "      <th>9</th>\n",
       "      <td>Aruba</td>\n",
       "      <td>ABW</td>\n",
       "      <td>Agricultural raw materials imports (% of merch...</td>\n",
       "      <td>0.35067</td>\n",
       "    </tr>\n",
       "    <tr>\n",
       "      <th>217</th>\n",
       "      <td>Africa Eastern and Southern</td>\n",
       "      <td>AFE</td>\n",
       "      <td>Agricultural raw materials imports (% of merch...</td>\n",
       "      <td>1.103181</td>\n",
       "    </tr>\n",
       "    <tr>\n",
       "      <th>0</th>\n",
       "      <td>Afghanistan</td>\n",
       "      <td>AFG</td>\n",
       "      <td>Agricultural raw materials imports (% of merch...</td>\n",
       "      <td>1.76946</td>\n",
       "    </tr>\n",
       "    <tr>\n",
       "      <th>218</th>\n",
       "      <td>Africa Western and Central</td>\n",
       "      <td>AFW</td>\n",
       "      <td>Agricultural raw materials imports (% of merch...</td>\n",
       "      <td>1.213113</td>\n",
       "    </tr>\n",
       "    <tr>\n",
       "      <th>5</th>\n",
       "      <td>Angola</td>\n",
       "      <td>AGO</td>\n",
       "      <td>Agricultural raw materials imports (% of merch...</td>\n",
       "      <td>0.93621</td>\n",
       "    </tr>\n",
       "  </tbody>\n",
       "</table>\n",
       "</div>"
      ],
      "text/plain": [
       "                    Country Name Country Code  \\\n",
       "9                          Aruba          ABW   \n",
       "217  Africa Eastern and Southern          AFE   \n",
       "0                    Afghanistan          AFG   \n",
       "218   Africa Western and Central          AFW   \n",
       "5                         Angola          AGO   \n",
       "\n",
       "                                           Series Name 2019 [YR2019]  \n",
       "9    Agricultural raw materials imports (% of merch...       0.35067  \n",
       "217  Agricultural raw materials imports (% of merch...      1.103181  \n",
       "0    Agricultural raw materials imports (% of merch...       1.76946  \n",
       "218  Agricultural raw materials imports (% of merch...      1.213113  \n",
       "5    Agricultural raw materials imports (% of merch...       0.93621  "
      ]
     },
     "execution_count": 28,
     "metadata": {},
     "output_type": "execute_result"
    }
   ],
   "source": [
    "df.sort_values(by='Country Code').head()"
   ]
  },
  {
   "cell_type": "code",
   "execution_count": 29,
   "id": "e033bdf3",
   "metadata": {},
   "outputs": [],
   "source": [
    "column_to_remove = ['Unnamed: 6','Unnamed: 7']"
   ]
  },
  {
   "cell_type": "code",
   "execution_count": 30,
   "id": "a0a81e95",
   "metadata": {},
   "outputs": [
    {
     "ename": "KeyError",
     "evalue": "\"['Unnamed: 6', 'Unnamed: 7'] not found in axis\"",
     "output_type": "error",
     "traceback": [
      "\u001b[1;31m---------------------------------------------------------------------------\u001b[0m",
      "\u001b[1;31mKeyError\u001b[0m                                  Traceback (most recent call last)",
      "Input \u001b[1;32mIn [30]\u001b[0m, in \u001b[0;36m<cell line: 1>\u001b[1;34m()\u001b[0m\n\u001b[1;32m----> 1\u001b[0m df \u001b[38;5;241m=\u001b[39m \u001b[43mdf\u001b[49m\u001b[38;5;241;43m.\u001b[39;49m\u001b[43mdrop\u001b[49m\u001b[43m(\u001b[49m\u001b[43mcolumn_to_remove\u001b[49m\u001b[43m,\u001b[49m\u001b[43m \u001b[49m\u001b[43maxis\u001b[49m\u001b[38;5;241;43m=\u001b[39;49m\u001b[38;5;241;43m1\u001b[39;49m\u001b[43m)\u001b[49m\n",
      "File \u001b[1;32mC:\\Program\\lib\\site-packages\\pandas\\util\\_decorators.py:311\u001b[0m, in \u001b[0;36mdeprecate_nonkeyword_arguments.<locals>.decorate.<locals>.wrapper\u001b[1;34m(*args, **kwargs)\u001b[0m\n\u001b[0;32m    305\u001b[0m \u001b[38;5;28;01mif\u001b[39;00m \u001b[38;5;28mlen\u001b[39m(args) \u001b[38;5;241m>\u001b[39m num_allow_args:\n\u001b[0;32m    306\u001b[0m     warnings\u001b[38;5;241m.\u001b[39mwarn(\n\u001b[0;32m    307\u001b[0m         msg\u001b[38;5;241m.\u001b[39mformat(arguments\u001b[38;5;241m=\u001b[39marguments),\n\u001b[0;32m    308\u001b[0m         \u001b[38;5;167;01mFutureWarning\u001b[39;00m,\n\u001b[0;32m    309\u001b[0m         stacklevel\u001b[38;5;241m=\u001b[39mstacklevel,\n\u001b[0;32m    310\u001b[0m     )\n\u001b[1;32m--> 311\u001b[0m \u001b[38;5;28;01mreturn\u001b[39;00m func(\u001b[38;5;241m*\u001b[39margs, \u001b[38;5;241m*\u001b[39m\u001b[38;5;241m*\u001b[39mkwargs)\n",
      "File \u001b[1;32mC:\\Program\\lib\\site-packages\\pandas\\core\\frame.py:4954\u001b[0m, in \u001b[0;36mDataFrame.drop\u001b[1;34m(self, labels, axis, index, columns, level, inplace, errors)\u001b[0m\n\u001b[0;32m   4806\u001b[0m \u001b[38;5;129m@deprecate_nonkeyword_arguments\u001b[39m(version\u001b[38;5;241m=\u001b[39m\u001b[38;5;28;01mNone\u001b[39;00m, allowed_args\u001b[38;5;241m=\u001b[39m[\u001b[38;5;124m\"\u001b[39m\u001b[38;5;124mself\u001b[39m\u001b[38;5;124m\"\u001b[39m, \u001b[38;5;124m\"\u001b[39m\u001b[38;5;124mlabels\u001b[39m\u001b[38;5;124m\"\u001b[39m])\n\u001b[0;32m   4807\u001b[0m \u001b[38;5;28;01mdef\u001b[39;00m \u001b[38;5;21mdrop\u001b[39m(\n\u001b[0;32m   4808\u001b[0m     \u001b[38;5;28mself\u001b[39m,\n\u001b[1;32m   (...)\u001b[0m\n\u001b[0;32m   4815\u001b[0m     errors: \u001b[38;5;28mstr\u001b[39m \u001b[38;5;241m=\u001b[39m \u001b[38;5;124m\"\u001b[39m\u001b[38;5;124mraise\u001b[39m\u001b[38;5;124m\"\u001b[39m,\n\u001b[0;32m   4816\u001b[0m ):\n\u001b[0;32m   4817\u001b[0m     \u001b[38;5;124;03m\"\"\"\u001b[39;00m\n\u001b[0;32m   4818\u001b[0m \u001b[38;5;124;03m    Drop specified labels from rows or columns.\u001b[39;00m\n\u001b[0;32m   4819\u001b[0m \n\u001b[1;32m   (...)\u001b[0m\n\u001b[0;32m   4952\u001b[0m \u001b[38;5;124;03m            weight  1.0     0.8\u001b[39;00m\n\u001b[0;32m   4953\u001b[0m \u001b[38;5;124;03m    \"\"\"\u001b[39;00m\n\u001b[1;32m-> 4954\u001b[0m     \u001b[38;5;28;01mreturn\u001b[39;00m \u001b[38;5;28;43msuper\u001b[39;49m\u001b[43m(\u001b[49m\u001b[43m)\u001b[49m\u001b[38;5;241;43m.\u001b[39;49m\u001b[43mdrop\u001b[49m\u001b[43m(\u001b[49m\n\u001b[0;32m   4955\u001b[0m \u001b[43m        \u001b[49m\u001b[43mlabels\u001b[49m\u001b[38;5;241;43m=\u001b[39;49m\u001b[43mlabels\u001b[49m\u001b[43m,\u001b[49m\n\u001b[0;32m   4956\u001b[0m \u001b[43m        \u001b[49m\u001b[43maxis\u001b[49m\u001b[38;5;241;43m=\u001b[39;49m\u001b[43maxis\u001b[49m\u001b[43m,\u001b[49m\n\u001b[0;32m   4957\u001b[0m \u001b[43m        \u001b[49m\u001b[43mindex\u001b[49m\u001b[38;5;241;43m=\u001b[39;49m\u001b[43mindex\u001b[49m\u001b[43m,\u001b[49m\n\u001b[0;32m   4958\u001b[0m \u001b[43m        \u001b[49m\u001b[43mcolumns\u001b[49m\u001b[38;5;241;43m=\u001b[39;49m\u001b[43mcolumns\u001b[49m\u001b[43m,\u001b[49m\n\u001b[0;32m   4959\u001b[0m \u001b[43m        \u001b[49m\u001b[43mlevel\u001b[49m\u001b[38;5;241;43m=\u001b[39;49m\u001b[43mlevel\u001b[49m\u001b[43m,\u001b[49m\n\u001b[0;32m   4960\u001b[0m \u001b[43m        \u001b[49m\u001b[43minplace\u001b[49m\u001b[38;5;241;43m=\u001b[39;49m\u001b[43minplace\u001b[49m\u001b[43m,\u001b[49m\n\u001b[0;32m   4961\u001b[0m \u001b[43m        \u001b[49m\u001b[43merrors\u001b[49m\u001b[38;5;241;43m=\u001b[39;49m\u001b[43merrors\u001b[49m\u001b[43m,\u001b[49m\n\u001b[0;32m   4962\u001b[0m \u001b[43m    \u001b[49m\u001b[43m)\u001b[49m\n",
      "File \u001b[1;32mC:\\Program\\lib\\site-packages\\pandas\\core\\generic.py:4267\u001b[0m, in \u001b[0;36mNDFrame.drop\u001b[1;34m(self, labels, axis, index, columns, level, inplace, errors)\u001b[0m\n\u001b[0;32m   4265\u001b[0m \u001b[38;5;28;01mfor\u001b[39;00m axis, labels \u001b[38;5;129;01min\u001b[39;00m axes\u001b[38;5;241m.\u001b[39mitems():\n\u001b[0;32m   4266\u001b[0m     \u001b[38;5;28;01mif\u001b[39;00m labels \u001b[38;5;129;01mis\u001b[39;00m \u001b[38;5;129;01mnot\u001b[39;00m \u001b[38;5;28;01mNone\u001b[39;00m:\n\u001b[1;32m-> 4267\u001b[0m         obj \u001b[38;5;241m=\u001b[39m \u001b[43mobj\u001b[49m\u001b[38;5;241;43m.\u001b[39;49m\u001b[43m_drop_axis\u001b[49m\u001b[43m(\u001b[49m\u001b[43mlabels\u001b[49m\u001b[43m,\u001b[49m\u001b[43m \u001b[49m\u001b[43maxis\u001b[49m\u001b[43m,\u001b[49m\u001b[43m \u001b[49m\u001b[43mlevel\u001b[49m\u001b[38;5;241;43m=\u001b[39;49m\u001b[43mlevel\u001b[49m\u001b[43m,\u001b[49m\u001b[43m \u001b[49m\u001b[43merrors\u001b[49m\u001b[38;5;241;43m=\u001b[39;49m\u001b[43merrors\u001b[49m\u001b[43m)\u001b[49m\n\u001b[0;32m   4269\u001b[0m \u001b[38;5;28;01mif\u001b[39;00m inplace:\n\u001b[0;32m   4270\u001b[0m     \u001b[38;5;28mself\u001b[39m\u001b[38;5;241m.\u001b[39m_update_inplace(obj)\n",
      "File \u001b[1;32mC:\\Program\\lib\\site-packages\\pandas\\core\\generic.py:4311\u001b[0m, in \u001b[0;36mNDFrame._drop_axis\u001b[1;34m(self, labels, axis, level, errors, consolidate, only_slice)\u001b[0m\n\u001b[0;32m   4309\u001b[0m         new_axis \u001b[38;5;241m=\u001b[39m axis\u001b[38;5;241m.\u001b[39mdrop(labels, level\u001b[38;5;241m=\u001b[39mlevel, errors\u001b[38;5;241m=\u001b[39merrors)\n\u001b[0;32m   4310\u001b[0m     \u001b[38;5;28;01melse\u001b[39;00m:\n\u001b[1;32m-> 4311\u001b[0m         new_axis \u001b[38;5;241m=\u001b[39m \u001b[43maxis\u001b[49m\u001b[38;5;241;43m.\u001b[39;49m\u001b[43mdrop\u001b[49m\u001b[43m(\u001b[49m\u001b[43mlabels\u001b[49m\u001b[43m,\u001b[49m\u001b[43m \u001b[49m\u001b[43merrors\u001b[49m\u001b[38;5;241;43m=\u001b[39;49m\u001b[43merrors\u001b[49m\u001b[43m)\u001b[49m\n\u001b[0;32m   4312\u001b[0m     indexer \u001b[38;5;241m=\u001b[39m axis\u001b[38;5;241m.\u001b[39mget_indexer(new_axis)\n\u001b[0;32m   4314\u001b[0m \u001b[38;5;66;03m# Case for non-unique axis\u001b[39;00m\n\u001b[0;32m   4315\u001b[0m \u001b[38;5;28;01melse\u001b[39;00m:\n",
      "File \u001b[1;32mC:\\Program\\lib\\site-packages\\pandas\\core\\indexes\\base.py:6644\u001b[0m, in \u001b[0;36mIndex.drop\u001b[1;34m(self, labels, errors)\u001b[0m\n\u001b[0;32m   6642\u001b[0m \u001b[38;5;28;01mif\u001b[39;00m mask\u001b[38;5;241m.\u001b[39many():\n\u001b[0;32m   6643\u001b[0m     \u001b[38;5;28;01mif\u001b[39;00m errors \u001b[38;5;241m!=\u001b[39m \u001b[38;5;124m\"\u001b[39m\u001b[38;5;124mignore\u001b[39m\u001b[38;5;124m\"\u001b[39m:\n\u001b[1;32m-> 6644\u001b[0m         \u001b[38;5;28;01mraise\u001b[39;00m \u001b[38;5;167;01mKeyError\u001b[39;00m(\u001b[38;5;124mf\u001b[39m\u001b[38;5;124m\"\u001b[39m\u001b[38;5;132;01m{\u001b[39;00m\u001b[38;5;28mlist\u001b[39m(labels[mask])\u001b[38;5;132;01m}\u001b[39;00m\u001b[38;5;124m not found in axis\u001b[39m\u001b[38;5;124m\"\u001b[39m)\n\u001b[0;32m   6645\u001b[0m     indexer \u001b[38;5;241m=\u001b[39m indexer[\u001b[38;5;241m~\u001b[39mmask]\n\u001b[0;32m   6646\u001b[0m \u001b[38;5;28;01mreturn\u001b[39;00m \u001b[38;5;28mself\u001b[39m\u001b[38;5;241m.\u001b[39mdelete(indexer)\n",
      "\u001b[1;31mKeyError\u001b[0m: \"['Unnamed: 6', 'Unnamed: 7'] not found in axis\""
     ]
    }
   ],
   "source": [
    "df = df.drop(column_to_remove, axis=1)"
   ]
  },
  {
   "cell_type": "code",
   "execution_count": null,
   "id": "72699f46",
   "metadata": {},
   "outputs": [],
   "source": [
    "df.to_csv('updated_dataset.csv', index=False)"
   ]
  },
  {
   "cell_type": "code",
   "execution_count": null,
   "id": "877ead96",
   "metadata": {},
   "outputs": [],
   "source": [
    "df.to_csv('your_dataset.csv', index=False)"
   ]
  },
  {
   "cell_type": "code",
   "execution_count": 31,
   "id": "0e1f1c75",
   "metadata": {},
   "outputs": [
    {
     "name": "stdout",
     "output_type": "stream",
     "text": [
      "                                   Country Name Country Code  \\\n",
      "0                                   Afghanistan          AFG   \n",
      "1                                       Albania          ALB   \n",
      "2                                       Algeria          DZA   \n",
      "3                                American Samoa          ASM   \n",
      "4                                       Andorra          AND   \n",
      "..                                          ...          ...   \n",
      "261                          Sub-Saharan Africa          SSF   \n",
      "262  Sub-Saharan Africa (excluding high income)          SSA   \n",
      "263   Sub-Saharan Africa (IDA & IBRD countries)          TSS   \n",
      "264                         Upper middle income          UMC   \n",
      "265                                       World          WLD   \n",
      "\n",
      "                                           Series Name 2019 [YR2019]  \n",
      "0    Agricultural raw materials imports (% of merch...       1.76946  \n",
      "1    Agricultural raw materials imports (% of merch...       0.87503  \n",
      "2    Agricultural raw materials imports (% of merch...           NaN  \n",
      "3    Agricultural raw materials imports (% of merch...           NaN  \n",
      "4    Agricultural raw materials imports (% of merch...           NaN  \n",
      "..                                                 ...           ...  \n",
      "261  Agricultural raw materials imports (% of merch...      1.136517  \n",
      "262  Agricultural raw materials imports (% of merch...      1.137154  \n",
      "263  Agricultural raw materials imports (% of merch...      1.136517  \n",
      "264  Agricultural raw materials imports (% of merch...      2.173421  \n",
      "265  Agricultural raw materials imports (% of merch...      1.379941  \n",
      "\n",
      "[266 rows x 4 columns]\n"
     ]
    }
   ],
   "source": [
    "print(df)"
   ]
  },
  {
   "cell_type": "code",
   "execution_count": 18,
   "id": "e6b1cddf",
   "metadata": {},
   "outputs": [
    {
     "data": {
      "text/html": [
       "<div>\n",
       "<style scoped>\n",
       "    .dataframe tbody tr th:only-of-type {\n",
       "        vertical-align: middle;\n",
       "    }\n",
       "\n",
       "    .dataframe tbody tr th {\n",
       "        vertical-align: top;\n",
       "    }\n",
       "\n",
       "    .dataframe thead th {\n",
       "        text-align: right;\n",
       "    }\n",
       "</style>\n",
       "<table border=\"1\" class=\"dataframe\">\n",
       "  <thead>\n",
       "    <tr style=\"text-align: right;\">\n",
       "      <th></th>\n",
       "      <th>Country Name</th>\n",
       "      <th>Country Code</th>\n",
       "      <th>Series Name</th>\n",
       "      <th>2019 [YR2019]</th>\n",
       "    </tr>\n",
       "  </thead>\n",
       "  <tbody>\n",
       "    <tr>\n",
       "      <th>0</th>\n",
       "      <td>Afghanistan</td>\n",
       "      <td>AFG</td>\n",
       "      <td>Agricultural raw materials imports (% of merch...</td>\n",
       "      <td>1.76946</td>\n",
       "    </tr>\n",
       "    <tr>\n",
       "      <th>1</th>\n",
       "      <td>Albania</td>\n",
       "      <td>ALB</td>\n",
       "      <td>Agricultural raw materials imports (% of merch...</td>\n",
       "      <td>0.87503</td>\n",
       "    </tr>\n",
       "    <tr>\n",
       "      <th>2</th>\n",
       "      <td>Algeria</td>\n",
       "      <td>DZA</td>\n",
       "      <td>Agricultural raw materials imports (% of merch...</td>\n",
       "      <td>NaN</td>\n",
       "    </tr>\n",
       "    <tr>\n",
       "      <th>3</th>\n",
       "      <td>American Samoa</td>\n",
       "      <td>ASM</td>\n",
       "      <td>Agricultural raw materials imports (% of merch...</td>\n",
       "      <td>NaN</td>\n",
       "    </tr>\n",
       "    <tr>\n",
       "      <th>4</th>\n",
       "      <td>Andorra</td>\n",
       "      <td>AND</td>\n",
       "      <td>Agricultural raw materials imports (% of merch...</td>\n",
       "      <td>NaN</td>\n",
       "    </tr>\n",
       "  </tbody>\n",
       "</table>\n",
       "</div>"
      ],
      "text/plain": [
       "     Country Name Country Code  \\\n",
       "0     Afghanistan          AFG   \n",
       "1         Albania          ALB   \n",
       "2         Algeria          DZA   \n",
       "3  American Samoa          ASM   \n",
       "4         Andorra          AND   \n",
       "\n",
       "                                         Series Name 2019 [YR2019]  \n",
       "0  Agricultural raw materials imports (% of merch...       1.76946  \n",
       "1  Agricultural raw materials imports (% of merch...       0.87503  \n",
       "2  Agricultural raw materials imports (% of merch...           NaN  \n",
       "3  Agricultural raw materials imports (% of merch...           NaN  \n",
       "4  Agricultural raw materials imports (% of merch...           NaN  "
      ]
     },
     "execution_count": 18,
     "metadata": {},
     "output_type": "execute_result"
    }
   ],
   "source": [
    "df.head()"
   ]
  },
  {
   "cell_type": "code",
   "execution_count": 19,
   "id": "5e502612",
   "metadata": {},
   "outputs": [
    {
     "data": {
      "text/html": [
       "<div>\n",
       "<style scoped>\n",
       "    .dataframe tbody tr th:only-of-type {\n",
       "        vertical-align: middle;\n",
       "    }\n",
       "\n",
       "    .dataframe tbody tr th {\n",
       "        vertical-align: top;\n",
       "    }\n",
       "\n",
       "    .dataframe thead th {\n",
       "        text-align: right;\n",
       "    }\n",
       "</style>\n",
       "<table border=\"1\" class=\"dataframe\">\n",
       "  <thead>\n",
       "    <tr style=\"text-align: right;\">\n",
       "      <th></th>\n",
       "      <th>Country Name</th>\n",
       "      <th>Country Code</th>\n",
       "      <th>Series Name</th>\n",
       "      <th>2019 [YR2019]</th>\n",
       "    </tr>\n",
       "  </thead>\n",
       "  <tbody>\n",
       "    <tr>\n",
       "      <th>count</th>\n",
       "      <td>266</td>\n",
       "      <td>266</td>\n",
       "      <td>266</td>\n",
       "      <td>205</td>\n",
       "    </tr>\n",
       "    <tr>\n",
       "      <th>unique</th>\n",
       "      <td>266</td>\n",
       "      <td>266</td>\n",
       "      <td>1</td>\n",
       "      <td>200</td>\n",
       "    </tr>\n",
       "    <tr>\n",
       "      <th>top</th>\n",
       "      <td>Afghanistan</td>\n",
       "      <td>AFG</td>\n",
       "      <td>Agricultural raw materials imports (% of merch...</td>\n",
       "      <td>..</td>\n",
       "    </tr>\n",
       "    <tr>\n",
       "      <th>freq</th>\n",
       "      <td>1</td>\n",
       "      <td>1</td>\n",
       "      <td>266</td>\n",
       "      <td>5</td>\n",
       "    </tr>\n",
       "  </tbody>\n",
       "</table>\n",
       "</div>"
      ],
      "text/plain": [
       "       Country Name Country Code  \\\n",
       "count           266          266   \n",
       "unique          266          266   \n",
       "top     Afghanistan          AFG   \n",
       "freq              1            1   \n",
       "\n",
       "                                              Series Name 2019 [YR2019]  \n",
       "count                                                 266           205  \n",
       "unique                                                  1           200  \n",
       "top     Agricultural raw materials imports (% of merch...            ..  \n",
       "freq                                                  266             5  "
      ]
     },
     "execution_count": 19,
     "metadata": {},
     "output_type": "execute_result"
    }
   ],
   "source": [
    "df.describe()"
   ]
  },
  {
   "cell_type": "code",
   "execution_count": null,
   "id": "5436a488",
   "metadata": {},
   "outputs": [],
   "source": [
    "df.groupby('Country Code').max(). head()"
   ]
  },
  {
   "cell_type": "code",
   "execution_count": null,
   "id": "ff195480",
   "metadata": {},
   "outputs": [],
   "source": [
    "row_to_remove = 0"
   ]
  },
  {
   "cell_type": "code",
   "execution_count": null,
   "id": "3e2ef9fc",
   "metadata": {},
   "outputs": [],
   "source": [
    "df = df.drop(row_to_remove, axis=0)"
   ]
  },
  {
   "cell_type": "code",
   "execution_count": null,
   "id": "d0c0ce3f",
   "metadata": {},
   "outputs": [],
   "source": [
    "df.to_csv('updated_dataset.csv', index=False)"
   ]
  },
  {
   "cell_type": "code",
   "execution_count": null,
   "id": "b67bbf2a",
   "metadata": {},
   "outputs": [],
   "source": [
    "df.to_csv('your_dataset.csv', index=False)"
   ]
  },
  {
   "cell_type": "code",
   "execution_count": null,
   "id": "72d6e62d",
   "metadata": {},
   "outputs": [],
   "source": [
    "print(df)"
   ]
  },
  {
   "cell_type": "code",
   "execution_count": null,
   "id": "768d1556",
   "metadata": {},
   "outputs": [],
   "source": [
    "df.groupby('Series Name').max(). head()"
   ]
  },
  {
   "cell_type": "code",
   "execution_count": null,
   "id": "d3951e71",
   "metadata": {},
   "outputs": [],
   "source": []
  }
 ],
 "metadata": {
  "kernelspec": {
   "display_name": "Python 3 (ipykernel)",
   "language": "python",
   "name": "python3"
  },
  "language_info": {
   "codemirror_mode": {
    "name": "ipython",
    "version": 3
   },
   "file_extension": ".py",
   "mimetype": "text/x-python",
   "name": "python",
   "nbconvert_exporter": "python",
   "pygments_lexer": "ipython3",
   "version": "3.9.12"
  }
 },
 "nbformat": 4,
 "nbformat_minor": 5
}
